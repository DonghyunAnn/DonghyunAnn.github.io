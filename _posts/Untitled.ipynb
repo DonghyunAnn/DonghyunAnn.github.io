{
 "cells": [
  {
   "cell_type": "markdown",
   "id": "4b278784",
   "metadata": {},
   "source": [
    "# Context length\n",
    "GPT4: 8000 ~ 32000 토큰\n",
    "GPT4 Turbo: 128000 토큰 = 300페이지 책\n"
   ]
  },
  {
   "attachments": {},
   "cell_type": "markdown",
   "id": "4899c4a7",
   "metadata": {},
   "source": [
    "# More Control\n",
    "- Json Mode 추가\n",
    "- 많은 함수 한번에 호출 가능\n",
    "- 새로운 Feature: Reproducible outputs"
   ]
  },
  {
   "attachments": {},
   "cell_type": "markdown",
   "id": "ca3ed495",
   "metadata": {},
   "source": [
    "# Better knowledge\n",
    "- 2021년 9월 기준 데이터에서 2023년 4월 기준 데이터로 업데이트"
   ]
  },
  {
   "cell_type": "markdown",
   "id": "ff28160f",
   "metadata": {},
   "source": [
    "# New Modaliries\n",
    "- DALL.E3, GPR-4 Turbo with Vision, 새로운 TTS 모델 API 작동가능\n",
    "- 이미지를 API로 받아들이고 분류 및 분석 가능\n",
    "- API를 통해 텍스트 음성 변환 가능 + 어픈소스 음성 인식 모델 Whisper V3 API 적용"
   ]
  },
  {
   "cell_type": "markdown",
   "id": "94dec9ed",
   "metadata": {},
   "source": [
    "# Customization\n",
    "- GPT-3.5 16k 버전 모델로 finetuning 가능\n",
    "- GPT-4 모델 finetuning 가능(experimental access program)\n"
   ]
  }
 ],
 "metadata": {
  "kernelspec": {
   "display_name": "Python 3 (ipykernel)",
   "language": "python",
   "name": "python3"
  },
  "language_info": {
   "codemirror_mode": {
    "name": "ipython",
    "version": 3
   },
   "file_extension": ".py",
   "mimetype": "text/x-python",
   "name": "python",
   "nbconvert_exporter": "python",
   "pygments_lexer": "ipython3",
   "version": "3.9.7"
  },
  "toc": {
   "base_numbering": 1,
   "nav_menu": {},
   "number_sections": true,
   "sideBar": true,
   "skip_h1_title": false,
   "title_cell": "Table of Contents",
   "title_sidebar": "Contents",
   "toc_cell": false,
   "toc_position": {},
   "toc_section_display": true,
   "toc_window_display": false
  },
  "varInspector": {
   "cols": {
    "lenName": 16,
    "lenType": 16,
    "lenVar": 40
   },
   "kernels_config": {
    "python": {
     "delete_cmd_postfix": "",
     "delete_cmd_prefix": "del ",
     "library": "var_list.py",
     "varRefreshCmd": "print(var_dic_list())"
    },
    "r": {
     "delete_cmd_postfix": ") ",
     "delete_cmd_prefix": "rm(",
     "library": "var_list.r",
     "varRefreshCmd": "cat(var_dic_list()) "
    }
   },
   "types_to_exclude": [
    "module",
    "function",
    "builtin_function_or_method",
    "instance",
    "_Feature"
   ],
   "window_display": false
  }
 },
 "nbformat": 4,
 "nbformat_minor": 5
}
